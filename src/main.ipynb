{
 "cells": [
  {
   "cell_type": "code",
   "execution_count": 23,
   "metadata": {},
   "outputs": [],
   "source": [
    "from selenium import webdriver\n",
    "from selenium.webdriver.common.by import By\n",
    "\n",
    "import pandas as pd"
   ]
  },
  {
   "cell_type": "code",
   "execution_count": 3,
   "metadata": {},
   "outputs": [],
   "source": [
    "browser = webdriver.Chrome()\n",
    "browser.get('https://www.youtube.com/watch?v=dU_2RUQzuYo')"
   ]
  },
  {
   "cell_type": "code",
   "execution_count": 4,
   "metadata": {},
   "outputs": [],
   "source": [
    "# 0.1초~0.3초 사이의 랜덤한 시간을 주어서 자동화를 인식하지 못하게 함\n",
    "import time\n",
    "import random\n",
    "\n",
    "time.sleep(random.uniform(0.1, 0.3))"
   ]
  },
  {
   "cell_type": "code",
   "execution_count": 31,
   "metadata": {},
   "outputs": [],
   "source": [
    "# 댓글 요소를 찾음\n",
    "comments = browser.find_elements(By.CSS_SELECTOR, \"yt-formatted-string[id='content-text']\")\n",
    "\n",
    "# 각 댓글을 DataFrame으로 변환하고 이를 리스트에 저장\n",
    "df_list = [pd.DataFrame({\"comments\": [comment.text]}) for comment in comments]\n",
    "\n",
    "# 리스트의 모든 DataFrame을 연결\n",
    "df = pd.concat(df_list, ignore_index=True)"
   ]
  },
  {
   "cell_type": "code",
   "execution_count": 32,
   "metadata": {},
   "outputs": [
    {
     "data": {
      "text/html": [
       "<div>\n",
       "<style scoped>\n",
       "    .dataframe tbody tr th:only-of-type {\n",
       "        vertical-align: middle;\n",
       "    }\n",
       "\n",
       "    .dataframe tbody tr th {\n",
       "        vertical-align: top;\n",
       "    }\n",
       "\n",
       "    .dataframe thead th {\n",
       "        text-align: right;\n",
       "    }\n",
       "</style>\n",
       "<table border=\"1\" class=\"dataframe\">\n",
       "  <thead>\n",
       "    <tr style=\"text-align: right;\">\n",
       "      <th></th>\n",
       "      <th>comments</th>\n",
       "    </tr>\n",
       "  </thead>\n",
       "  <tbody>\n",
       "    <tr>\n",
       "      <th>0</th>\n",
       "      <td>이철규 ! 같은 인간들만 남아있는 국힘 정말 한심하다~~~~~~~~~~~~</td>\n",
       "    </tr>\n",
       "    <tr>\n",
       "      <th>1</th>\n",
       "      <td>정말맞아요.정말국민들같고놀고있네요</td>\n",
       "    </tr>\n",
       "    <tr>\n",
       "      <th>2</th>\n",
       "      <td>그러니 국 짐 이죠</td>\n",
       "    </tr>\n",
       "    <tr>\n",
       "      <th>3</th>\n",
       "      <td>충성을 다하는 광신도 처럼 행동하고 있지만 나중에 주인이 힘빠지면 180도 돌변해서...</td>\n",
       "    </tr>\n",
       "    <tr>\n",
       "      <th>4</th>\n",
       "      <td>국짐 비데위는 과학입니다 ㅋㅋㅋ</td>\n",
       "    </tr>\n",
       "    <tr>\n",
       "      <th>...</th>\n",
       "      <td>...</td>\n",
       "    </tr>\n",
       "    <tr>\n",
       "      <th>442</th>\n",
       "      <td>역시 국힘은 기대를 져버리지 않는구나. 계속해라.</td>\n",
       "    </tr>\n",
       "    <tr>\n",
       "      <th>443</th>\n",
       "      <td>와.....어처구니가 없네...미친</td>\n",
       "    </tr>\n",
       "    <tr>\n",
       "      <th>444</th>\n",
       "      <td>국고? 와 대단하다</td>\n",
       "    </tr>\n",
       "    <tr>\n",
       "      <th>445</th>\n",
       "      <td>미친..  정말 무식함이 흐른다. 정말 투표 잘 하자</td>\n",
       "    </tr>\n",
       "    <tr>\n",
       "      <th>446</th>\n",
       "      <td>명풍백 돌려주고 불법촬영에 대한 고소를 해야지. 떳떳하면 그랬을 것 같은데.\\n왜 ...</td>\n",
       "    </tr>\n",
       "  </tbody>\n",
       "</table>\n",
       "<p>447 rows × 1 columns</p>\n",
       "</div>"
      ],
      "text/plain": [
       "                                              comments\n",
       "0            이철규 ! 같은 인간들만 남아있는 국힘 정말 한심하다~~~~~~~~~~~~\n",
       "1                                   정말맞아요.정말국민들같고놀고있네요\n",
       "2                                           그러니 국 짐 이죠\n",
       "3    충성을 다하는 광신도 처럼 행동하고 있지만 나중에 주인이 힘빠지면 180도 돌변해서...\n",
       "4                                    국짐 비데위는 과학입니다 ㅋㅋㅋ\n",
       "..                                                 ...\n",
       "442                        역시 국힘은 기대를 져버리지 않는구나. 계속해라.\n",
       "443                                와.....어처구니가 없네...미친\n",
       "444                                         국고? 와 대단하다\n",
       "445                      미친..  정말 무식함이 흐른다. 정말 투표 잘 하자\n",
       "446  명풍백 돌려주고 불법촬영에 대한 고소를 해야지. 떳떳하면 그랬을 것 같은데.\\n왜 ...\n",
       "\n",
       "[447 rows x 1 columns]"
      ]
     },
     "execution_count": 32,
     "metadata": {},
     "output_type": "execute_result"
    }
   ],
   "source": [
    "df"
   ]
  },
  {
   "cell_type": "code",
   "execution_count": 33,
   "metadata": {},
   "outputs": [],
   "source": [
    "from selenium import webdriver\n",
    "from selenium.webdriver.common.by import By\n",
    "from selenium.webdriver.support.ui import WebDriverWait\n",
    "from selenium.webdriver.support import expected_conditions as EC\n",
    "import time\n",
    "\n",
    "def scroll_to_end(driver):\n",
    "    old_position = 0\n",
    "    new_position = None\n",
    "\n",
    "    while new_position != old_position:\n",
    "        # 기록 위치 저장\n",
    "        old_position = driver.execute_script(\n",
    "            \"return window.pageYOffset;\")\n",
    "        \n",
    "        # 스크롤 다운\n",
    "        driver.execute_script(\n",
    "            \"window.scrollTo(0, document.body.scrollHeight);\")\n",
    "        \n",
    "        # 페이지 로드를 기다림\n",
    "        time.sleep(3)\n",
    "        \n",
    "        # 새 위치 확인\n",
    "        new_position = driver.execute_script(\n",
    "            \"return window.pageYOffset;\")\n"
   ]
  },
  {
   "cell_type": "code",
   "execution_count": null,
   "metadata": {},
   "outputs": [],
   "source": []
  }
 ],
 "metadata": {
  "kernelspec": {
   "display_name": "Python 3",
   "language": "python",
   "name": "python3"
  },
  "language_info": {
   "codemirror_mode": {
    "name": "ipython",
    "version": 3
   },
   "file_extension": ".py",
   "mimetype": "text/x-python",
   "name": "python",
   "nbconvert_exporter": "python",
   "pygments_lexer": "ipython3",
   "version": "3.9.6"
  }
 },
 "nbformat": 4,
 "nbformat_minor": 2
}
